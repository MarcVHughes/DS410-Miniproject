{
 "cells": [
  {
   "cell_type": "code",
   "execution_count": 41,
   "metadata": {},
   "outputs": [],
   "source": [
    "import pandas as pd\n",
    "import numpy as np\n",
    "\n",
    "from sklearn.linear_model import LassoCV, LogisticRegression\n",
    "from sklearn.model_selection import train_test_split, RepeatedKFold\n",
    "from sklearn.preprocessing import LabelEncoder, StandardScaler\n",
    "from sklearn.metrics import accuracy_score\n",
    "\n",
    "import warnings\n",
    "warnings.filterwarnings('ignore')"
   ]
  },
  {
   "cell_type": "markdown",
   "metadata": {},
   "source": [
    "## Importing the Data"
   ]
  },
  {
   "cell_type": "code",
   "execution_count": 42,
   "metadata": {},
   "outputs": [],
   "source": [
    "df = pd.read_csv(\"flight_report_selected.csv\")"
   ]
  },
  {
   "cell_type": "code",
   "execution_count": 43,
   "metadata": {},
   "outputs": [
    {
     "data": {
      "text/html": [
       "<div>\n",
       "<style scoped>\n",
       "    .dataframe tbody tr th:only-of-type {\n",
       "        vertical-align: middle;\n",
       "    }\n",
       "\n",
       "    .dataframe tbody tr th {\n",
       "        vertical-align: top;\n",
       "    }\n",
       "\n",
       "    .dataframe thead th {\n",
       "        text-align: right;\n",
       "    }\n",
       "</style>\n",
       "<table border=\"1\" class=\"dataframe\">\n",
       "  <thead>\n",
       "    <tr style=\"text-align: right;\">\n",
       "      <th></th>\n",
       "      <th>ORIGIN_AIRPORT_ID</th>\n",
       "      <th>DEP_TIME</th>\n",
       "      <th>DISTANCE</th>\n",
       "      <th>AIRLINE_ID</th>\n",
       "      <th>AWND</th>\n",
       "      <th>PRCP</th>\n",
       "      <th>SNOW</th>\n",
       "      <th>SNWD</th>\n",
       "      <th>TAIL_NUM</th>\n",
       "      <th>AIRPORT_NAME</th>\n",
       "      <th>ARR_TIME_BLK</th>\n",
       "      <th>DEST_CITY_NAME</th>\n",
       "      <th>ORIGIN_CITY_NAME</th>\n",
       "      <th>OP_UNIQUE_CARRIER</th>\n",
       "      <th>DEP_DEL15</th>\n",
       "    </tr>\n",
       "  </thead>\n",
       "  <tbody>\n",
       "    <tr>\n",
       "      <th>0</th>\n",
       "      <td>11986</td>\n",
       "      <td>1829.0</td>\n",
       "      <td>408.0</td>\n",
       "      <td>20363</td>\n",
       "      <td>10.07</td>\n",
       "      <td>0.09</td>\n",
       "      <td>0.8</td>\n",
       "      <td>0.0</td>\n",
       "      <td>1192</td>\n",
       "      <td>14</td>\n",
       "      <td>14</td>\n",
       "      <td>118</td>\n",
       "      <td>13</td>\n",
       "      <td>0</td>\n",
       "      <td>0.0</td>\n",
       "    </tr>\n",
       "    <tr>\n",
       "      <th>1</th>\n",
       "      <td>11986</td>\n",
       "      <td>1014.0</td>\n",
       "      <td>120.0</td>\n",
       "      <td>20363</td>\n",
       "      <td>10.07</td>\n",
       "      <td>0.09</td>\n",
       "      <td>0.8</td>\n",
       "      <td>0.0</td>\n",
       "      <td>4900</td>\n",
       "      <td>14</td>\n",
       "      <td>6</td>\n",
       "      <td>53</td>\n",
       "      <td>13</td>\n",
       "      <td>0</td>\n",
       "      <td>0.0</td>\n",
       "    </tr>\n",
       "    <tr>\n",
       "      <th>2</th>\n",
       "      <td>11986</td>\n",
       "      <td>1320.0</td>\n",
       "      <td>408.0</td>\n",
       "      <td>20363</td>\n",
       "      <td>10.07</td>\n",
       "      <td>0.09</td>\n",
       "      <td>0.8</td>\n",
       "      <td>0.0</td>\n",
       "      <td>1251</td>\n",
       "      <td>14</td>\n",
       "      <td>9</td>\n",
       "      <td>118</td>\n",
       "      <td>13</td>\n",
       "      <td>0</td>\n",
       "      <td>0.0</td>\n",
       "    </tr>\n",
       "    <tr>\n",
       "      <th>3</th>\n",
       "      <td>11986</td>\n",
       "      <td>1746.0</td>\n",
       "      <td>120.0</td>\n",
       "      <td>20363</td>\n",
       "      <td>10.07</td>\n",
       "      <td>0.09</td>\n",
       "      <td>0.8</td>\n",
       "      <td>0.0</td>\n",
       "      <td>1157</td>\n",
       "      <td>14</td>\n",
       "      <td>13</td>\n",
       "      <td>53</td>\n",
       "      <td>13</td>\n",
       "      <td>0</td>\n",
       "      <td>0.0</td>\n",
       "    </tr>\n",
       "    <tr>\n",
       "      <th>4</th>\n",
       "      <td>11986</td>\n",
       "      <td>1925.0</td>\n",
       "      <td>120.0</td>\n",
       "      <td>20363</td>\n",
       "      <td>10.07</td>\n",
       "      <td>0.09</td>\n",
       "      <td>0.8</td>\n",
       "      <td>0.0</td>\n",
       "      <td>744</td>\n",
       "      <td>14</td>\n",
       "      <td>15</td>\n",
       "      <td>53</td>\n",
       "      <td>13</td>\n",
       "      <td>0</td>\n",
       "      <td>0.0</td>\n",
       "    </tr>\n",
       "  </tbody>\n",
       "</table>\n",
       "</div>"
      ],
      "text/plain": [
       "   ORIGIN_AIRPORT_ID  DEP_TIME  DISTANCE  AIRLINE_ID   AWND  PRCP  SNOW  SNWD  \\\n",
       "0              11986    1829.0     408.0       20363  10.07  0.09   0.8   0.0   \n",
       "1              11986    1014.0     120.0       20363  10.07  0.09   0.8   0.0   \n",
       "2              11986    1320.0     408.0       20363  10.07  0.09   0.8   0.0   \n",
       "3              11986    1746.0     120.0       20363  10.07  0.09   0.8   0.0   \n",
       "4              11986    1925.0     120.0       20363  10.07  0.09   0.8   0.0   \n",
       "\n",
       "   TAIL_NUM  AIRPORT_NAME  ARR_TIME_BLK  DEST_CITY_NAME  ORIGIN_CITY_NAME  \\\n",
       "0      1192            14            14             118                13   \n",
       "1      4900            14             6              53                13   \n",
       "2      1251            14             9             118                13   \n",
       "3      1157            14            13              53                13   \n",
       "4       744            14            15              53                13   \n",
       "\n",
       "   OP_UNIQUE_CARRIER  DEP_DEL15  \n",
       "0                  0        0.0  \n",
       "1                  0        0.0  \n",
       "2                  0        0.0  \n",
       "3                  0        0.0  \n",
       "4                  0        0.0  "
      ]
     },
     "execution_count": 43,
     "metadata": {},
     "output_type": "execute_result"
    }
   ],
   "source": [
    "df.head()"
   ]
  },
  {
   "cell_type": "markdown",
   "metadata": {},
   "source": [
    "## Machine Learning Experiments"
   ]
  },
  {
   "cell_type": "markdown",
   "metadata": {},
   "source": [
    "### Splitting into Train, Validation, and Test \n",
    "Our target 'DEP_DEL15' = 1 if the airplane is delayed for longer than 15 minutes"
   ]
  },
  {
   "cell_type": "code",
   "execution_count": 44,
   "metadata": {},
   "outputs": [
    {
     "name": "stdout",
     "output_type": "stream",
     "text": [
      "Training set shapes: (607939, 14) (607939,)\n",
      "Validation set shapes: (130273, 14) (130273,)\n",
      "Testing set shapes: (130273, 14) (130273,)\n"
     ]
    }
   ],
   "source": [
    "X = df.drop(columns=['DEP_DEL15'])\n",
    "y = df['DEP_DEL15']\n",
    "\n",
    "\n",
    "# split away the test set\n",
    "X_train, X_temp, y_train, y_temp = train_test_split(X, y, test_size=0.3)\n",
    "\n",
    "# split the training into train and validation\n",
    "X_valid, X_test, y_valid, y_test = train_test_split(X_temp, y_temp, test_size=0.5)\n",
    "\n",
    "print(\"Training set shapes:\", X_train.shape, y_train.shape)\n",
    "print(\"Validation set shapes:\", X_valid.shape, y_valid.shape)\n",
    "print(\"Testing set shapes:\", X_test.shape, y_test.shape)"
   ]
  },
  {
   "cell_type": "code",
   "execution_count": 45,
   "metadata": {},
   "outputs": [],
   "source": [
    "#Feature Standardization\n",
    "scaler = StandardScaler()\n",
    "X_train = scaler.fit_transform(X_train)\n",
    "X_valid = scaler.transform(X_valid)\n",
    "X_test = scaler.transform(X_test)"
   ]
  },
  {
   "cell_type": "code",
   "execution_count": 46,
   "metadata": {},
   "outputs": [
    {
     "name": "stdout",
     "output_type": "stream",
     "text": [
      "Accuracy: 0.8283604430695539\n"
     ]
    }
   ],
   "source": [
    "lr = LogisticRegression()\n",
    "\n",
    "lr.fit(X_train, y_train)\n",
    "\n",
    "y_pred = lr.predict(X_valid)\n",
    "\n",
    "accuracy = accuracy_score(y_valid, y_pred)\n",
    "print(\"Accuracy:\", accuracy)"
   ]
  }
 ],
 "metadata": {
  "kernelspec": {
   "display_name": "Python 3",
   "language": "python",
   "name": "python3"
  },
  "language_info": {
   "codemirror_mode": {
    "name": "ipython",
    "version": 3
   },
   "file_extension": ".py",
   "mimetype": "text/x-python",
   "name": "python",
   "nbconvert_exporter": "python",
   "pygments_lexer": "ipython3",
   "version": "3.11.4"
  }
 },
 "nbformat": 4,
 "nbformat_minor": 2
}
